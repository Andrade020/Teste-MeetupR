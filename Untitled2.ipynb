{
  "nbformat": 4,
  "nbformat_minor": 0,
  "metadata": {
    "colab": {
      "name": "Untitled2.ipynb",
      "provenance": [],
      "authorship_tag": "ABX9TyMwK6Lc2wZfysV3PmtKW4ft",
      "include_colab_link": true
    },
    "kernelspec": {
      "name": "python3",
      "display_name": "Python 3"
    },
    "language_info": {
      "name": "python"
    }
  },
  "cells": [
    {
      "cell_type": "markdown",
      "metadata": {
        "id": "view-in-github",
        "colab_type": "text"
      },
      "source": [
        "<a href=\"https://colab.research.google.com/github/Andrade020/Teste-MeetupR/blob/master/Untitled2.ipynb\" target=\"_parent\"><img src=\"https://colab.research.google.com/assets/colab-badge.svg\" alt=\"Open In Colab\"/></a>"
      ]
    },
    {
      "cell_type": "code",
      "metadata": {
        "id": "gRwlVSB45sZe"
      },
      "source": [
        "import numpy as np, random, operator, pandas as pd, matplotlib.pyplot as pltb"
      ],
      "execution_count": 2,
      "outputs": []
    },
    {
      "cell_type": "code",
      "metadata": {
        "id": "lG2N0-N-5xjN"
      },
      "source": [
        "class City:\n",
        "    def __init__(self, x, y):\n",
        "        self.x = x\n",
        "        self.y = y\n",
        "    \n",
        "    def distance(self, city):\n",
        "        xDis = abs(self.x - city.x)\n",
        "        yDis = abs(self.y - city.y)\n",
        "        distance = np.sqrt((xDis ** 2) + (yDis ** 2))\n",
        "        return distance\n",
        "    \n",
        "    def __repr__(self):\n",
        "        return \"(\" + str(self.x) + \",\" + str(self.y) + \")\""
      ],
      "execution_count": 3,
      "outputs": []
    },
    {
      "cell_type": "code",
      "metadata": {
        "id": "SsHBRrMy51rO"
      },
      "source": [
        "class Fitness:\n",
        "    def __init__(self, route):\n",
        "        self.route = route\n",
        "        self.distance = 0\n",
        "        self.fitness= 0.0\n",
        "    \n",
        "    def routeDistance(self):\n",
        "        if self.distance ==0:\n",
        "            pathDistance = 0\n",
        "            for i in range(0, len(self.route)):\n",
        "                fromCity = self.route[i]\n",
        "                toCity = None\n",
        "                if i + 1 < len(self.route):\n",
        "                    toCity = self.route[i + 1]\n",
        "                else:\n",
        "                    toCity = self.route[0]\n",
        "                pathDistance += fromCity.distance(toCity)\n",
        "            self.distance = pathDistance\n",
        "        return self.distance\n",
        "    \n",
        "    def routeFitness(self):\n",
        "        if self.fitness == 0:\n",
        "            self.fitness = 1 / float(self.routeDistance())\n",
        "        return self.fitness"
      ],
      "execution_count": 4,
      "outputs": []
    },
    {
      "cell_type": "code",
      "metadata": {
        "id": "dXTQRNjL5532"
      },
      "source": [
        "def createRoute(cityList):\n",
        "    route = random.sample(cityList, len(cityList))\n",
        "    return route"
      ],
      "execution_count": 5,
      "outputs": []
    },
    {
      "cell_type": "code",
      "metadata": {
        "id": "8g2c-Y7f6ANQ"
      },
      "source": [
        "def initialPopulation(popSize, cityList):\n",
        "    population = []\n",
        "\n",
        "    for i in range(0, popSize):\n",
        "        population.append(createRoute(cityList))\n",
        "    return population"
      ],
      "execution_count": 6,
      "outputs": []
    },
    {
      "cell_type": "code",
      "metadata": {
        "id": "tnGKQZKn6Hw3"
      },
      "source": [
        "def rankRoutes(population):\n",
        "    fitnessResults = {}\n",
        "    for i in range(0,len(population)):\n",
        "        fitnessResults[i] = Fitness(population[i]).routeFitness()\n",
        "    return sorted(fitnessResults.items(), key = operator.itemgetter(1), reverse = True)"
      ],
      "execution_count": 7,
      "outputs": []
    },
    {
      "cell_type": "code",
      "metadata": {
        "id": "-zLplxKd6NDf"
      },
      "source": [
        "def selection(popRanked, eliteSize):\n",
        "    selectionResults = []\n",
        "    df = pd.DataFrame(np.array(popRanked), columns=[\"Index\",\"Fitness\"])\n",
        "    df['cum_sum'] = df.Fitness.cumsum()\n",
        "    df['cum_perc'] = 100*df.cum_sum/df.Fitness.sum()\n",
        "    \n",
        "    for i in range(0, eliteSize):\n",
        "        selectionResults.append(popRanked[i][0])\n",
        "    for i in range(0, len(popRanked) - eliteSize):\n",
        "        pick = 100*random.random()\n",
        "        for i in range(0, len(popRanked)):\n",
        "            if pick <= df.iat[i,3]:\n",
        "                selectionResults.append(popRanked[i][0])\n",
        "                break\n",
        "    return selectionResults"
      ],
      "execution_count": 8,
      "outputs": []
    },
    {
      "cell_type": "code",
      "metadata": {
        "id": "Moc3X5We6Pyd"
      },
      "source": [
        "def matingPool(population, selectionResults):\n",
        "    matingpool = []\n",
        "    for i in range(0, len(selectionResults)):\n",
        "        index = selectionResults[i]\n",
        "        matingpool.append(population[index])\n",
        "    return matingpool"
      ],
      "execution_count": 9,
      "outputs": []
    },
    {
      "cell_type": "code",
      "metadata": {
        "id": "1bugMqEX6bbH"
      },
      "source": [
        "def breed(parent1, parent2):\n",
        "    child = []\n",
        "    childP1 = []\n",
        "    childP2 = []\n",
        "    \n",
        "    geneA = int(random.random() * len(parent1))\n",
        "    geneB = int(random.random() * len(parent1))\n",
        "    \n",
        "    startGene = min(geneA, geneB)\n",
        "    endGene = max(geneA, geneB)\n",
        "\n",
        "    for i in range(startGene, endGene):\n",
        "        childP1.append(parent1[i])\n",
        "        \n",
        "    childP2 = [item for item in parent2 if item not in childP1]\n",
        "\n",
        "    child = childP1 + childP2\n",
        "    return child"
      ],
      "execution_count": 10,
      "outputs": []
    },
    {
      "cell_type": "code",
      "metadata": {
        "id": "ez5OoUd16ioW"
      },
      "source": [
        "\n",
        "def breedPopulation(matingpool, eliteSize):\n",
        "    children = []\n",
        "    length = len(matingpool) - eliteSize\n",
        "    pool = random.sample(matingpool, len(matingpool))\n",
        "\n",
        "    for i in range(0,eliteSize):\n",
        "        children.append(matingpool[i])\n",
        "    \n",
        "    for i in range(0, length):\n",
        "        child = breed(pool[i], pool[len(matingpool)-i-1])\n",
        "        children.append(child)\n",
        "    return children"
      ],
      "execution_count": 11,
      "outputs": []
    },
    {
      "cell_type": "code",
      "metadata": {
        "id": "laL3OLc16rJC"
      },
      "source": [
        "def mutate(individual, mutationRate):\n",
        "    for swapped in range(len(individual)):\n",
        "        if(random.random() < mutationRate):\n",
        "            swapWith = int(random.random() * len(individual))\n",
        "            \n",
        "            city1 = individual[swapped]\n",
        "            city2 = individual[swapWith]\n",
        "            \n",
        "            individual[swapped] = city2\n",
        "            individual[swapWith] = city1\n",
        "    return individual"
      ],
      "execution_count": 12,
      "outputs": []
    },
    {
      "cell_type": "code",
      "metadata": {
        "id": "8QagAq-a6xPH"
      },
      "source": [
        "def mutatePopulation(population, mutationRate):\n",
        "    mutatedPop = []\n",
        "    \n",
        "    for ind in range(0, len(population)):\n",
        "        mutatedInd = mutate(population[ind], mutationRate)\n",
        "        mutatedPop.append(mutatedInd)\n",
        "    return mutatedPop"
      ],
      "execution_count": 13,
      "outputs": []
    },
    {
      "cell_type": "code",
      "metadata": {
        "id": "wChzzVjl62Ga"
      },
      "source": [
        "def nextGeneration(currentGen, eliteSize, mutationRate):\n",
        "    popRanked = rankRoutes(currentGen)\n",
        "    selectionResults = selection(popRanked, eliteSize)\n",
        "    matingpool = matingPool(currentGen, selectionResults)\n",
        "    children = breedPopulation(matingpool, eliteSize)\n",
        "    nextGeneration = mutatePopulation(children, mutationRate)\n",
        "    return nextGeneration"
      ],
      "execution_count": 14,
      "outputs": []
    },
    {
      "cell_type": "code",
      "metadata": {
        "id": "lqZosSuW6--8"
      },
      "source": [
        "\n",
        "def geneticAlgorithm(population, popSize, eliteSize, mutationRate, generations):\n",
        "    pop = initialPopulation(popSize, population)\n",
        "    print(\"Initial distance: \" + str(1 / rankRoutes(pop)[0][1]))\n",
        "    \n",
        "    for i in range(0, generations):\n",
        "        pop = nextGeneration(pop, eliteSize, mutationRate)\n",
        "    \n",
        "    print(\"Final distance: \" + str(1 / rankRoutes(pop)[0][1]))\n",
        "    bestRouteIndex = rankRoutes(pop)[0][0]\n",
        "    bestRoute = pop[bestRouteIndex]\n",
        "    return bestRoute"
      ],
      "execution_count": 15,
      "outputs": []
    },
    {
      "cell_type": "code",
      "metadata": {
        "id": "SkfvGBs57DKK"
      },
      "source": [
        "cityList = []\n",
        "\n",
        "for i in range(0,25):\n",
        "    cityList.append(City(x=int(random.random() * 200), y=int(random.random() * 200)))"
      ],
      "execution_count": 16,
      "outputs": []
    },
    {
      "cell_type": "code",
      "metadata": {
        "colab": {
          "base_uri": "https://localhost:8080/"
        },
        "id": "gMyVn0wo7LCS",
        "outputId": "140c322f-e08c-4a7e-eab8-814feff85764"
      },
      "source": [
        "geneticAlgorithm(population=cityList, popSize=100, eliteSize=20, mutationRate=0.01, generations=500)\n"
      ],
      "execution_count": 17,
      "outputs": [
        {
          "output_type": "stream",
          "name": "stdout",
          "text": [
            "Initial distance: 2317.1556548839267\n",
            "Final distance: 953.8287708329609\n"
          ]
        },
        {
          "output_type": "execute_result",
          "data": {
            "text/plain": [
              "[(188,4),\n",
              " (164,0),\n",
              " (154,7),\n",
              " (131,5),\n",
              " (87,23),\n",
              " (21,26),\n",
              " (27,49),\n",
              " (23,60),\n",
              " (78,87),\n",
              " (110,81),\n",
              " (118,87),\n",
              " (130,120),\n",
              " (62,181),\n",
              " (39,197),\n",
              " (22,180),\n",
              " (4,173),\n",
              " (7,144),\n",
              " (107,157),\n",
              " (142,170),\n",
              " (160,199),\n",
              " (170,60),\n",
              " (171,50),\n",
              " (149,52),\n",
              " (161,27),\n",
              " (184,23)]"
            ]
          },
          "metadata": {},
          "execution_count": 17
        }
      ]
    },
    {
      "cell_type": "code",
      "metadata": {
        "id": "jqKcWhia7Pfh"
      },
      "source": [
        "def geneticAlgorithmPlot(population, popSize, eliteSize, mutationRate, generations):\n",
        "    pop = initialPopulation(popSize, population)\n",
        "    progress = []\n",
        "    progress.append(1 / rankRoutes(pop)[0][1])\n",
        "    \n",
        "    for i in range(0, generations):\n",
        "        pop = nextGeneration(pop, eliteSize, mutationRate)\n",
        "        progress.append(1 / rankRoutes(pop)[0][1])\n",
        "    \n",
        "    plt.plot(progress)\n",
        "    plt.ylabel('Distance')\n",
        "    plt.xlabel('Generation')\n",
        "    plt.show()"
      ],
      "execution_count": 18,
      "outputs": []
    },
    {
      "cell_type": "code",
      "metadata": {
        "colab": {
          "base_uri": "https://localhost:8080/",
          "height": 279
        },
        "id": "avuiUFRy7dLW",
        "outputId": "1726161e-2e90-43e1-c406-d87ad95d52ef"
      },
      "source": [
        "geneticAlgorithmPlot(population=cityList, popSize=100, eliteSize=20, mutationRate=0.01, generations=500)\n"
      ],
      "execution_count": 19,
      "outputs": [
        {
          "output_type": "display_data",
          "data": {
            "image/png": "[encoded data removed]",
            "text/plain": [
              "<Figure size 432x288 with 1 Axes>"
            ]
          },
          "metadata": {
            "needs_background": "light"
          }
        }
      ]
    }
  ]
}